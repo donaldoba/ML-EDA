{
 "cells": [
  {
   "cell_type": "code",
   "execution_count": 1,
   "id": "cca1820b-768f-4926-99b5-eca9b56f8bcf",
   "metadata": {},
   "outputs": [
    {
     "name": "stdout",
     "output_type": "stream",
     "text": [
      "Requirement already satisfied: numpy in c:\\users\\lenovo\\anaconda3\\lib\\site-packages (1.26.4)\n",
      "Requirement already satisfied: pandas in c:\\users\\lenovo\\anaconda3\\lib\\site-packages (2.2.2)\n",
      "Requirement already satisfied: numpy>=1.26.0 in c:\\users\\lenovo\\anaconda3\\lib\\site-packages (from pandas) (1.26.4)\n",
      "Requirement already satisfied: python-dateutil>=2.8.2 in c:\\users\\lenovo\\anaconda3\\lib\\site-packages (from pandas) (2.9.0.post0)\n",
      "Requirement already satisfied: pytz>=2020.1 in c:\\users\\lenovo\\anaconda3\\lib\\site-packages (from pandas) (2024.1)\n",
      "Requirement already satisfied: tzdata>=2022.7 in c:\\users\\lenovo\\anaconda3\\lib\\site-packages (from pandas) (2023.3)\n",
      "Requirement already satisfied: six>=1.5 in c:\\users\\lenovo\\anaconda3\\lib\\site-packages (from python-dateutil>=2.8.2->pandas) (1.16.0)\n",
      "Requirement already satisfied: matplotlib in c:\\users\\lenovo\\anaconda3\\lib\\site-packages (3.9.2)\n",
      "Requirement already satisfied: contourpy>=1.0.1 in c:\\users\\lenovo\\anaconda3\\lib\\site-packages (from matplotlib) (1.2.0)\n",
      "Requirement already satisfied: cycler>=0.10 in c:\\users\\lenovo\\anaconda3\\lib\\site-packages (from matplotlib) (0.11.0)\n",
      "Requirement already satisfied: fonttools>=4.22.0 in c:\\users\\lenovo\\anaconda3\\lib\\site-packages (from matplotlib) (4.51.0)\n",
      "Requirement already satisfied: kiwisolver>=1.3.1 in c:\\users\\lenovo\\anaconda3\\lib\\site-packages (from matplotlib) (1.4.4)\n",
      "Requirement already satisfied: numpy>=1.23 in c:\\users\\lenovo\\anaconda3\\lib\\site-packages (from matplotlib) (1.26.4)\n",
      "Requirement already satisfied: packaging>=20.0 in c:\\users\\lenovo\\anaconda3\\lib\\site-packages (from matplotlib) (24.1)\n",
      "Requirement already satisfied: pillow>=8 in c:\\users\\lenovo\\anaconda3\\lib\\site-packages (from matplotlib) (10.4.0)\n",
      "Requirement already satisfied: pyparsing>=2.3.1 in c:\\users\\lenovo\\anaconda3\\lib\\site-packages (from matplotlib) (3.1.2)\n",
      "Requirement already satisfied: python-dateutil>=2.7 in c:\\users\\lenovo\\anaconda3\\lib\\site-packages (from matplotlib) (2.9.0.post0)\n",
      "Requirement already satisfied: six>=1.5 in c:\\users\\lenovo\\anaconda3\\lib\\site-packages (from python-dateutil>=2.7->matplotlib) (1.16.0)\n",
      "Requirement already satisfied: seaborn in c:\\users\\lenovo\\anaconda3\\lib\\site-packages (0.13.2)\n",
      "Requirement already satisfied: numpy!=1.24.0,>=1.20 in c:\\users\\lenovo\\anaconda3\\lib\\site-packages (from seaborn) (1.26.4)\n",
      "Requirement already satisfied: pandas>=1.2 in c:\\users\\lenovo\\anaconda3\\lib\\site-packages (from seaborn) (2.2.2)\n",
      "Requirement already satisfied: matplotlib!=3.6.1,>=3.4 in c:\\users\\lenovo\\anaconda3\\lib\\site-packages (from seaborn) (3.9.2)\n",
      "Requirement already satisfied: contourpy>=1.0.1 in c:\\users\\lenovo\\anaconda3\\lib\\site-packages (from matplotlib!=3.6.1,>=3.4->seaborn) (1.2.0)\n",
      "Requirement already satisfied: cycler>=0.10 in c:\\users\\lenovo\\anaconda3\\lib\\site-packages (from matplotlib!=3.6.1,>=3.4->seaborn) (0.11.0)\n",
      "Requirement already satisfied: fonttools>=4.22.0 in c:\\users\\lenovo\\anaconda3\\lib\\site-packages (from matplotlib!=3.6.1,>=3.4->seaborn) (4.51.0)\n",
      "Requirement already satisfied: kiwisolver>=1.3.1 in c:\\users\\lenovo\\anaconda3\\lib\\site-packages (from matplotlib!=3.6.1,>=3.4->seaborn) (1.4.4)\n",
      "Requirement already satisfied: packaging>=20.0 in c:\\users\\lenovo\\anaconda3\\lib\\site-packages (from matplotlib!=3.6.1,>=3.4->seaborn) (24.1)\n",
      "Requirement already satisfied: pillow>=8 in c:\\users\\lenovo\\anaconda3\\lib\\site-packages (from matplotlib!=3.6.1,>=3.4->seaborn) (10.4.0)\n",
      "Requirement already satisfied: pyparsing>=2.3.1 in c:\\users\\lenovo\\anaconda3\\lib\\site-packages (from matplotlib!=3.6.1,>=3.4->seaborn) (3.1.2)\n",
      "Requirement already satisfied: python-dateutil>=2.7 in c:\\users\\lenovo\\anaconda3\\lib\\site-packages (from matplotlib!=3.6.1,>=3.4->seaborn) (2.9.0.post0)\n",
      "Requirement already satisfied: pytz>=2020.1 in c:\\users\\lenovo\\anaconda3\\lib\\site-packages (from pandas>=1.2->seaborn) (2024.1)\n",
      "Requirement already satisfied: tzdata>=2022.7 in c:\\users\\lenovo\\anaconda3\\lib\\site-packages (from pandas>=1.2->seaborn) (2023.3)\n",
      "Requirement already satisfied: six>=1.5 in c:\\users\\lenovo\\anaconda3\\lib\\site-packages (from python-dateutil>=2.7->matplotlib!=3.6.1,>=3.4->seaborn) (1.16.0)\n"
     ]
    }
   ],
   "source": [
    "!pip install numpy\n",
    "!pip install pandas\n",
    "!pip install matplotlib\n",
    "!pip install seaborn"
   ]
  },
  {
   "cell_type": "code",
   "execution_count": 2,
   "id": "b169cf2c-27d9-4226-9dbf-5478743da92e",
   "metadata": {},
   "outputs": [],
   "source": [
    "import pandas as pd\n",
    "import numpy as np\n",
    "import matplotlib as plot\n",
    "import seaborn as sns"
   ]
  },
  {
   "cell_type": "code",
   "execution_count": 4,
   "id": "e8e72be7-a932-4a7b-abb2-ab91ab078346",
   "metadata": {},
   "outputs": [],
   "source": [
    "data=pd.read_csv(\"GenZ_DatingApp_Data.csv\")"
   ]
  },
  {
   "cell_type": "code",
   "execution_count": 7,
   "id": "41ba867e-30d2-4477-b2f1-d92e210e5514",
   "metadata": {},
   "outputs": [
    {
     "data": {
      "text/plain": [
       "<bound method NDFrame.head of      User_ID  Age      Gender   Location      Education     Occupation  \\\n",
       "0          1   20  Non-binary  Bangalore  Undergraduate     Freelancer   \n",
       "1          2   24      Female      Delhi  Undergraduate  Part-time Job   \n",
       "2          3   24  Non-binary    Kolkata  Undergraduate         Intern   \n",
       "3          4   22  Non-binary      Delhi       Graduate  Full-time Job   \n",
       "4          5   18        Male      Delhi       Graduate         Intern   \n",
       "..       ...  ...         ...        ...            ...            ...   \n",
       "495      496   23      Female     Mumbai  Undergraduate         Intern   \n",
       "496      497   23        Male     Mumbai   Postgraduate         Intern   \n",
       "497      498   22        Male  Hyderabad       Graduate     Freelancer   \n",
       "498      499   21      Female    Kolkata       Graduate        Student   \n",
       "499      500   22        Male     Mumbai       Graduate  Part-time Job   \n",
       "\n",
       "    Primary_App Secondary_Apps Usage_Frequency Daily_Usage_Time  \\\n",
       "0         Hinge          Hinge         Monthly           1 hour   \n",
       "1         Hinge        OkCupid          Weekly       30 minutes   \n",
       "2           NaN            NaN          Weekly          2 hours   \n",
       "3           NaN        OkCupid           Daily       30 minutes   \n",
       "4       OkCupid        OkCupid          Weekly          2 hours   \n",
       "..          ...            ...             ...              ...   \n",
       "495      Tinder          Hinge          Weekly        1.5 hours   \n",
       "496     OkCupid         Tinder           Daily          2 hours   \n",
       "497         NaN          Hinge         Monthly          2 hours   \n",
       "498      Tinder          Hinge           Daily        1.5 hours   \n",
       "499         NaN          Hinge          Weekly        1.5 hours   \n",
       "\n",
       "      Reason_for_Using  Satisfaction               Challenges  \\\n",
       "0    Finding a Partner             4          Safety Concerns   \n",
       "1        Casual Dating             5             Time-Wasting   \n",
       "2        Casual Dating             4          Safety Concerns   \n",
       "3           Casual Fun             3                      NaN   \n",
       "4           Casual Fun             4          Safety Concerns   \n",
       "..                 ...           ...                      ...   \n",
       "495      Casual Dating             2                      NaN   \n",
       "496         Casual Fun             1             Time-Wasting   \n",
       "497         Casual Fun             2  Lack of Genuine Matches   \n",
       "498      Casual Dating             3  Lack of Genuine Matches   \n",
       "499         Casual Fun             2             Time-Wasting   \n",
       "\n",
       "       Desired_Features Preferred_Communication  \\\n",
       "0           Audio Calls             Video Calls   \n",
       "1           Video Calls                    Text   \n",
       "2     Detailed Profiles                    Text   \n",
       "3    AI Recommendations             Voice Notes   \n",
       "4           Video Calls                    Text   \n",
       "..                  ...                     ...   \n",
       "495         Audio Calls             Voice Notes   \n",
       "496         Video Calls             Video Calls   \n",
       "497         Video Calls             Voice Notes   \n",
       "498   Detailed Profiles                    Text   \n",
       "499  AI Recommendations             Video Calls   \n",
       "\n",
       "                       Partner_Priorities  \n",
       "0       Values > Personality > Appearance  \n",
       "1       Values > Personality > Appearance  \n",
       "2       Values > Personality > Appearance  \n",
       "3        Personality > Interests > Values  \n",
       "4    Appearance > Interests > Personality  \n",
       "..                                    ...  \n",
       "495      Personality > Interests > Values  \n",
       "496     Values > Personality > Appearance  \n",
       "497  Appearance > Interests > Personality  \n",
       "498  Appearance > Interests > Personality  \n",
       "499  Appearance > Interests > Personality  \n",
       "\n",
       "[500 rows x 16 columns]>"
      ]
     },
     "execution_count": 7,
     "metadata": {},
     "output_type": "execute_result"
    }
   ],
   "source": [
    "data.head \n"
   ]
  },
  {
   "cell_type": "code",
   "execution_count": 25,
   "id": "69dfd00c-5aca-411f-8b9d-794256575d2c",
   "metadata": {},
   "outputs": [
    {
     "name": "stdout",
     "output_type": "stream",
     "text": [
      "Gender Distribution:\n",
      " Gender\n",
      "Female        176\n",
      "Male          171\n",
      "Non-binary    153\n",
      "Name: count, dtype: int64\n",
      "\n",
      "Average Daily Usage Time (Hours) by Gender:\n",
      " Gender\n",
      "Female        1.573864\n",
      "Male          1.535088\n",
      "Non-binary    1.467320\n",
      "Name: Daily_Usage_Hours, dtype: float64\n",
      "\n",
      "Usage Frequency Distribution by Gender:\n",
      " Usage_Frequency  Daily  Monthly  Weekly\n",
      "Gender                                 \n",
      "Female              63       58      55\n",
      "Male                71       50      50\n",
      "Non-binary          47       50      56\n"
     ]
    }
   ],
   "source": [
    "# Check gender distribution\n",
    "gender_counts = data[\"Gender\"].value_counts()\n",
    "print(\"Gender Distribution:\\n\", gender_counts)\n",
    "# Convert Daily_Usage_Time to numeric hours\n",
    "data[\"Daily_Usage_Hours\"] = data[\"Daily_Usage_Time\"].str.extract(r'(\\d+)').astype(float)\n",
    "data.loc[data[\"Daily_Usage_Time\"].str.contains(\"minutes\", na=False), \"Daily_Usage_Hours\"] /= 60\n",
    "# Compare Average Daily Usage by Gender\n",
    "usage_time_by_gender = data.groupby(\"Gender\")[\"Daily_Usage_Hours\"].mean()\n",
    "print(\"\\nAverage Daily Usage Time (Hours) by Gender:\\n\", usage_time_by_gender)\n",
    "# Compare App Usage Frequency by Gender\n",
    "usage_freq_by_gender = data.groupby([\"Gender\", \"Usage_Frequency\"]).size().unstack()\n",
    "print(\"\\nUsage Frequency Distribution by Gender:\\n\", usage_freq_by_gender)\n"
   ]
  },
  {
   "cell_type": "code",
   "execution_count": 17,
   "id": "460fc6fd-97e1-4e94-baec-0fe612c0a86d",
   "metadata": {},
   "outputs": [],
   "source": [
    "# Yes there is gender biais in dating app usage \n"
   ]
  },
  {
   "cell_type": "code",
   "execution_count": 50,
   "id": "c90250a3-34e5-4de8-9697-d9382df06e60",
   "metadata": {},
   "outputs": [
    {
     "name": "stdout",
     "output_type": "stream",
     "text": [
      "Gender Distribution (%):\n",
      " Gender\n",
      "Female        35.2\n",
      "Male          34.2\n",
      "Non-binary    30.6\n",
      "Name: proportion, dtype: float64\n",
      "\n",
      "Age Group Distribution (%):\n",
      " Age_Group\n",
      "18-24    74.4\n",
      "25-30    25.6\n",
      "31-40     0.0\n",
      "41-50     0.0\n",
      "50+       0.0\n",
      "Name: proportion, dtype: float64\n",
      "\n",
      "Education Level Distribution (%):\n",
      " Education\n",
      "Graduate         33.8\n",
      "Undergraduate    33.2\n",
      "Postgraduate     33.0\n",
      "Name: proportion, dtype: float64\n"
     ]
    }
   ],
   "source": [
    "# Check Gender Distribution\n",
    "gender_counts = data[\"Gender\"].value_counts(normalize=True) * 100\n",
    "print(\"Gender Distribution (%):\\n\", gender_counts)\n",
    "\n",
    "# Check Age Group Distribution\n",
    "data[\"Age\"] = pd.to_numeric(data[\"Age\"], errors=\"coerce\")  # Ensure age is numeric\n",
    "age_bins = [18, 24, 30, 40, 50, 100]  # Define age groups\n",
    "age_labels = [\"18-24\", \"25-30\", \"31-40\", \"41-50\", \"50+\"]\n",
    "data[\"Age_Group\"] = pd.cut(data[\"Age\"], bins=age_bins, labels=age_labels, right=False)\n",
    "age_counts = data[\"Age_Group\"].value_counts(normalize=True) * 100\n",
    "print(\"\\nAge Group Distribution (%):\\n\", age_counts)\n",
    "# Check Education Level Distribution (if applicable)\n",
    "if \"Education\" in data.columns:\n",
    "    education_counts = data[\"Education\"].value_counts(normalize=True) * 100\n",
    "    print(\"\\nEducation Level Distribution (%):\\n\", education_counts)\n",
    "\n",
    "# Visualizing Gender and Age Distributions\n"
   ]
  },
  {
   "cell_type": "code",
   "execution_count": 52,
   "id": "31f48f41-8182-43c8-ba17-dd1b73ace198",
   "metadata": {},
   "outputs": [],
   "source": [
    "# No there isnot demographics overrepresented in the dataset"
   ]
  },
  {
   "cell_type": "code",
   "execution_count": 58,
   "id": "9ce00901-193f-4a5a-98dc-78da51e37bc2",
   "metadata": {},
   "outputs": [
    {
     "name": "stdout",
     "output_type": "stream",
     "text": [
      "Missing Values in Demographic Columns:\n",
      " Gender       0\n",
      "Age          0\n",
      "Location     0\n",
      "Education    0\n",
      "dtype: int64\n",
      "\n",
      "Gender Distribution (%):\n",
      " Gender\n",
      "Female        35.2\n",
      "Male          34.2\n",
      "Non-binary    30.6\n",
      "Name: proportion, dtype: float64\n",
      "\n",
      "Age Group Distribution (%):\n",
      " Age_Group\n",
      "18-24    74.4\n",
      "25-30    25.6\n",
      "31-40     0.0\n",
      "41-50     0.0\n",
      "50+       0.0\n",
      "Name: proportion, dtype: float64\n",
      "\n",
      "Education Level Distribution (%):\n",
      " Education\n",
      "Graduate         33.8\n",
      "Undergraduate    33.2\n",
      "Postgraduate     33.0\n",
      "Name: proportion, dtype: float64\n"
     ]
    }
   ],
   "source": [
    "# missing group of users \n",
    "\n",
    "missing_values = data[[\"Gender\", \"Age\", \"Location\", \"Education\"]].isnull().sum()\n",
    "print(\"Missing Values in Demographic Columns:\\n\", missing_values)\n",
    "\n",
    "gender_counts = data[\"Gender\"].value_counts(normalize=True) * 100\n",
    "print(\"\\nGender Distribution (%):\\n\", gender_counts)\n",
    "\n",
    "# Check age distribution\n",
    "data[\"Age\"] = pd.to_numeric(data[\"Age\"], errors=\"coerce\")\n",
    "age_bins = [18, 24, 30, 40, 50, 100]\n",
    "age_labels = [\"18-24\", \"25-30\", \"31-40\", \"41-50\", \"50+\"]\n",
    "data[\"Age_Group\"] = pd.cut(data[\"Age\"], bins=age_bins, labels=age_labels, right=False)\n",
    "age_counts = data[\"Age_Group\"].value_counts(normalize=True) * 100\n",
    "print(\"\\nAge Group Distribution (%):\\n\", age_counts)\n",
    "\n",
    "# Check Urban vs. Rural representation\n",
    "if \"Urban\" in data.columns:\n",
    "    urban_counts = data[\"Urban\"].value_counts(normalize=True) * 100\n",
    "    print(\"\\nUrban vs. Rural Distribution (%):\\n\", urban_counts)\n",
    "\n",
    "# Check education levels (if applicable)\n",
    "if \"Education\" in data.columns:\n",
    "    education_counts = data[\"Education\"].value_counts(normalize=True) * 100\n",
    "    print(\"\\nEducation Level Distribution (%):\\n\", education_counts)"
   ]
  },
  {
   "cell_type": "code",
   "execution_count": 60,
   "id": "73a09cef-f7b0-4e91-994e-96e3eeaacc2c",
   "metadata": {},
   "outputs": [],
   "source": [
    "# The missing values are : rural users , non binary  "
   ]
  },
  {
   "cell_type": "code",
   "execution_count": 64,
   "id": "04047af3-9dee-4415-b414-f2cad79b4bb6",
   "metadata": {},
   "outputs": [
    {
     "name": "stdout",
     "output_type": "stream",
     "text": [
      "Missing Values in Demographic Columns:\n",
      " Gender       0\n",
      "Age          0\n",
      "Location     0\n",
      "Education    0\n",
      "dtype: int64\n",
      "\n",
      "Gender Distribution (%):\n",
      " Gender\n",
      "Female        35.2\n",
      "Male          34.2\n",
      "Non-binary    30.6\n",
      "Name: proportion, dtype: float64\n",
      "\n",
      "Age Group Distribution (%):\n",
      " Age_Group\n",
      "18-24    74.4\n",
      "25-30    25.6\n",
      "31-40     0.0\n",
      "41-50     0.0\n",
      "50+       0.0\n",
      "Name: proportion, dtype: float64\n",
      "\n",
      "Education Level Distribution (%):\n",
      " Education\n",
      "Graduate         33.8\n",
      "Undergraduate    33.2\n",
      "Postgraduate     33.0\n",
      "Name: proportion, dtype: float64\n"
     ]
    }
   ],
   "source": [
    "#Can we trust this dataset for making general claims about Gen-Z dating in India?\n",
    "\n",
    "# Check for missing values in key demographic columns\n",
    "missing_values = data[[\"Gender\", \"Age\", \"Location\", \"Education\"]].isnull().sum()\n",
    "print(\"Missing Values in Demographic Columns:\\n\", missing_values)\n",
    "\n",
    "# Check gender distribution\n",
    "gender_counts = data[\"Gender\"].value_counts(normalize=True) * 100\n",
    "print(\"\\nGender Distribution (%):\\n\", gender_counts)\n",
    "\n",
    "# Check age distribution\n",
    "data[\"Age\"] = pd.to_numeric(data[\"Age\"], errors=\"coerce\")\n",
    "age_bins = [18, 24, 30, 40, 50, 100]\n",
    "age_labels = [\"18-24\", \"25-30\", \"31-40\", \"41-50\", \"50+\"]\n",
    "data[\"Age_Group\"] = pd.cut(data[\"Age\"], bins=age_bins, labels=age_labels, right=False)\n",
    "age_counts = data[\"Age_Group\"].value_counts(normalize=True) * 100\n",
    "print(\"\\nAge Group Distribution (%):\\n\", age_counts)\n",
    "\n",
    "# Check Urban vs. Rural representation\n",
    "if \"Urban\" in data.columns:\n",
    "    urban_counts = data[\"Urban\"].value_counts(normalize=True) * 100\n",
    "    print(\"\\nUrban vs. Rural Distribution (%):\\n\", urban_counts)\n",
    "\n",
    "# Check education levels (if applicable)\n",
    "if \"Education\" in data.columns:\n",
    "    education_counts = data[\"Education\"].value_counts(normalize=True) * 100\n",
    "    print(\"\\nEducation Level Distribution (%):\\n\", education_counts)"
   ]
  },
  {
   "cell_type": "code",
   "execution_count": 66,
   "id": "248645e4-7657-4206-b817-da34fa141f51",
   "metadata": {},
   "outputs": [],
   "source": [
    "# So with this result we can see that see that we can't trust dataset for making general claims about Gen-Z dating in India\n"
   ]
  },
  {
   "cell_type": "code",
   "execution_count": 68,
   "id": "687e6031-ff23-4677-9837-58705b0bfbc5",
   "metadata": {},
   "outputs": [],
   "source": [
    "#Discuss ethical considerations in data collection.\n",
    "# informed consent ,privacy & anonymity , fair representation & bias reduction ,data security& protection ,avoiding manipulation&missue  and transparency & accountability "
   ]
  },
  {
   "cell_type": "code",
   "execution_count": null,
   "id": "1092789e-6a82-4117-9e8f-2b8810e25dd2",
   "metadata": {},
   "outputs": [],
   "source": []
  }
 ],
 "metadata": {
  "kernelspec": {
   "display_name": "Python [conda env:base] *",
   "language": "python",
   "name": "conda-base-py"
  },
  "language_info": {
   "codemirror_mode": {
    "name": "ipython",
    "version": 3
   },
   "file_extension": ".py",
   "mimetype": "text/x-python",
   "name": "python",
   "nbconvert_exporter": "python",
   "pygments_lexer": "ipython3",
   "version": "3.12.7"
  }
 },
 "nbformat": 4,
 "nbformat_minor": 5
}
