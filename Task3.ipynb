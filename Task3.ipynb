{
 "cells": [
  {
   "cell_type": "code",
   "execution_count": 1,
   "id": "43357523-a2a3-44ff-be02-61909e772c66",
   "metadata": {},
   "outputs": [
    {
     "name": "stdout",
     "output_type": "stream",
     "text": [
      "Requirement already satisfied: numpy in c:\\users\\lenovo\\anaconda3\\lib\\site-packages (1.26.4)\n",
      "Requirement already satisfied: pandas in c:\\users\\lenovo\\anaconda3\\lib\\site-packages (2.2.2)\n",
      "Requirement already satisfied: numpy>=1.26.0 in c:\\users\\lenovo\\anaconda3\\lib\\site-packages (from pandas) (1.26.4)\n",
      "Requirement already satisfied: python-dateutil>=2.8.2 in c:\\users\\lenovo\\anaconda3\\lib\\site-packages (from pandas) (2.9.0.post0)\n",
      "Requirement already satisfied: pytz>=2020.1 in c:\\users\\lenovo\\anaconda3\\lib\\site-packages (from pandas) (2024.1)\n",
      "Requirement already satisfied: tzdata>=2022.7 in c:\\users\\lenovo\\anaconda3\\lib\\site-packages (from pandas) (2023.3)\n",
      "Requirement already satisfied: six>=1.5 in c:\\users\\lenovo\\anaconda3\\lib\\site-packages (from python-dateutil>=2.8.2->pandas) (1.16.0)\n",
      "Requirement already satisfied: matplotlib in c:\\users\\lenovo\\anaconda3\\lib\\site-packages (3.9.2)\n",
      "Requirement already satisfied: contourpy>=1.0.1 in c:\\users\\lenovo\\anaconda3\\lib\\site-packages (from matplotlib) (1.2.0)\n",
      "Requirement already satisfied: cycler>=0.10 in c:\\users\\lenovo\\anaconda3\\lib\\site-packages (from matplotlib) (0.11.0)\n",
      "Requirement already satisfied: fonttools>=4.22.0 in c:\\users\\lenovo\\anaconda3\\lib\\site-packages (from matplotlib) (4.51.0)\n",
      "Requirement already satisfied: kiwisolver>=1.3.1 in c:\\users\\lenovo\\anaconda3\\lib\\site-packages (from matplotlib) (1.4.4)\n",
      "Requirement already satisfied: numpy>=1.23 in c:\\users\\lenovo\\anaconda3\\lib\\site-packages (from matplotlib) (1.26.4)\n",
      "Requirement already satisfied: packaging>=20.0 in c:\\users\\lenovo\\anaconda3\\lib\\site-packages (from matplotlib) (24.1)\n",
      "Requirement already satisfied: pillow>=8 in c:\\users\\lenovo\\anaconda3\\lib\\site-packages (from matplotlib) (10.4.0)\n",
      "Requirement already satisfied: pyparsing>=2.3.1 in c:\\users\\lenovo\\anaconda3\\lib\\site-packages (from matplotlib) (3.1.2)\n",
      "Requirement already satisfied: python-dateutil>=2.7 in c:\\users\\lenovo\\anaconda3\\lib\\site-packages (from matplotlib) (2.9.0.post0)\n",
      "Requirement already satisfied: six>=1.5 in c:\\users\\lenovo\\anaconda3\\lib\\site-packages (from python-dateutil>=2.7->matplotlib) (1.16.0)\n",
      "Requirement already satisfied: seaborn in c:\\users\\lenovo\\anaconda3\\lib\\site-packages (0.13.2)\n",
      "Requirement already satisfied: numpy!=1.24.0,>=1.20 in c:\\users\\lenovo\\anaconda3\\lib\\site-packages (from seaborn) (1.26.4)\n",
      "Requirement already satisfied: pandas>=1.2 in c:\\users\\lenovo\\anaconda3\\lib\\site-packages (from seaborn) (2.2.2)\n",
      "Requirement already satisfied: matplotlib!=3.6.1,>=3.4 in c:\\users\\lenovo\\anaconda3\\lib\\site-packages (from seaborn) (3.9.2)\n",
      "Requirement already satisfied: contourpy>=1.0.1 in c:\\users\\lenovo\\anaconda3\\lib\\site-packages (from matplotlib!=3.6.1,>=3.4->seaborn) (1.2.0)\n",
      "Requirement already satisfied: cycler>=0.10 in c:\\users\\lenovo\\anaconda3\\lib\\site-packages (from matplotlib!=3.6.1,>=3.4->seaborn) (0.11.0)\n",
      "Requirement already satisfied: fonttools>=4.22.0 in c:\\users\\lenovo\\anaconda3\\lib\\site-packages (from matplotlib!=3.6.1,>=3.4->seaborn) (4.51.0)\n",
      "Requirement already satisfied: kiwisolver>=1.3.1 in c:\\users\\lenovo\\anaconda3\\lib\\site-packages (from matplotlib!=3.6.1,>=3.4->seaborn) (1.4.4)\n",
      "Requirement already satisfied: packaging>=20.0 in c:\\users\\lenovo\\anaconda3\\lib\\site-packages (from matplotlib!=3.6.1,>=3.4->seaborn) (24.1)\n",
      "Requirement already satisfied: pillow>=8 in c:\\users\\lenovo\\anaconda3\\lib\\site-packages (from matplotlib!=3.6.1,>=3.4->seaborn) (10.4.0)\n",
      "Requirement already satisfied: pyparsing>=2.3.1 in c:\\users\\lenovo\\anaconda3\\lib\\site-packages (from matplotlib!=3.6.1,>=3.4->seaborn) (3.1.2)\n",
      "Requirement already satisfied: python-dateutil>=2.7 in c:\\users\\lenovo\\anaconda3\\lib\\site-packages (from matplotlib!=3.6.1,>=3.4->seaborn) (2.9.0.post0)\n",
      "Requirement already satisfied: pytz>=2020.1 in c:\\users\\lenovo\\anaconda3\\lib\\site-packages (from pandas>=1.2->seaborn) (2024.1)\n",
      "Requirement already satisfied: tzdata>=2022.7 in c:\\users\\lenovo\\anaconda3\\lib\\site-packages (from pandas>=1.2->seaborn) (2023.3)\n",
      "Requirement already satisfied: six>=1.5 in c:\\users\\lenovo\\anaconda3\\lib\\site-packages (from python-dateutil>=2.7->matplotlib!=3.6.1,>=3.4->seaborn) (1.16.0)\n"
     ]
    }
   ],
   "source": [
    "!pip install numpy\n",
    "!pip install pandas\n",
    "!pip install matplotlib\n",
    "!pip install seaborn\n"
   ]
  },
  {
   "cell_type": "code",
   "execution_count": 3,
   "id": "d839b036-4700-44ec-b748-9196912ab81d",
   "metadata": {},
   "outputs": [],
   "source": [
    "import pandas as pd\n",
    "import numpy as np\n",
    "import matplotlib as plot\n",
    "import seaborn as sns"
   ]
  },
  {
   "cell_type": "code",
   "execution_count": 5,
   "id": "7b35f145-86a4-4cc0-a3f6-c40638bb3307",
   "metadata": {},
   "outputs": [],
   "source": [
    "data=pd.read_csv(\"GenZ_DatingApp_Data.csv\")"
   ]
  },
  {
   "cell_type": "code",
   "execution_count": 7,
   "id": "826641f4-85b5-4bb3-a0a0-16e2a5ac3383",
   "metadata": {},
   "outputs": [
    {
     "name": "stdout",
     "output_type": "stream",
     "text": [
      "<class 'pandas.core.frame.DataFrame'>\n",
      "RangeIndex: 500 entries, 0 to 499\n",
      "Data columns (total 16 columns):\n",
      " #   Column                   Non-Null Count  Dtype \n",
      "---  ------                   --------------  ----- \n",
      " 0   User_ID                  500 non-null    int64 \n",
      " 1   Age                      500 non-null    int64 \n",
      " 2   Gender                   500 non-null    object\n",
      " 3   Location                 500 non-null    object\n",
      " 4   Education                500 non-null    object\n",
      " 5   Occupation               500 non-null    object\n",
      " 6   Primary_App              393 non-null    object\n",
      " 7   Secondary_Apps           386 non-null    object\n",
      " 8   Usage_Frequency          500 non-null    object\n",
      " 9   Daily_Usage_Time         500 non-null    object\n",
      " 10  Reason_for_Using         500 non-null    object\n",
      " 11  Satisfaction             500 non-null    int64 \n",
      " 12  Challenges               383 non-null    object\n",
      " 13  Desired_Features         500 non-null    object\n",
      " 14  Preferred_Communication  500 non-null    object\n",
      " 15  Partner_Priorities       500 non-null    object\n",
      "dtypes: int64(3), object(13)\n",
      "memory usage: 62.6+ KB\n"
     ]
    }
   ],
   "source": [
    "data.info()\n"
   ]
  },
  {
   "cell_type": "code",
   "execution_count": 9,
   "id": "d5b0a384-8572-4526-b20a-ba07ec13f46c",
   "metadata": {},
   "outputs": [
    {
     "data": {
      "text/plain": [
       "<bound method NDFrame.head of      User_ID  Age      Gender   Location      Education     Occupation  \\\n",
       "0          1   20  Non-binary  Bangalore  Undergraduate     Freelancer   \n",
       "1          2   24      Female      Delhi  Undergraduate  Part-time Job   \n",
       "2          3   24  Non-binary    Kolkata  Undergraduate         Intern   \n",
       "3          4   22  Non-binary      Delhi       Graduate  Full-time Job   \n",
       "4          5   18        Male      Delhi       Graduate         Intern   \n",
       "..       ...  ...         ...        ...            ...            ...   \n",
       "495      496   23      Female     Mumbai  Undergraduate         Intern   \n",
       "496      497   23        Male     Mumbai   Postgraduate         Intern   \n",
       "497      498   22        Male  Hyderabad       Graduate     Freelancer   \n",
       "498      499   21      Female    Kolkata       Graduate        Student   \n",
       "499      500   22        Male     Mumbai       Graduate  Part-time Job   \n",
       "\n",
       "    Primary_App Secondary_Apps Usage_Frequency Daily_Usage_Time  \\\n",
       "0         Hinge          Hinge         Monthly           1 hour   \n",
       "1         Hinge        OkCupid          Weekly       30 minutes   \n",
       "2           NaN            NaN          Weekly          2 hours   \n",
       "3           NaN        OkCupid           Daily       30 minutes   \n",
       "4       OkCupid        OkCupid          Weekly          2 hours   \n",
       "..          ...            ...             ...              ...   \n",
       "495      Tinder          Hinge          Weekly        1.5 hours   \n",
       "496     OkCupid         Tinder           Daily          2 hours   \n",
       "497         NaN          Hinge         Monthly          2 hours   \n",
       "498      Tinder          Hinge           Daily        1.5 hours   \n",
       "499         NaN          Hinge          Weekly        1.5 hours   \n",
       "\n",
       "      Reason_for_Using  Satisfaction               Challenges  \\\n",
       "0    Finding a Partner             4          Safety Concerns   \n",
       "1        Casual Dating             5             Time-Wasting   \n",
       "2        Casual Dating             4          Safety Concerns   \n",
       "3           Casual Fun             3                      NaN   \n",
       "4           Casual Fun             4          Safety Concerns   \n",
       "..                 ...           ...                      ...   \n",
       "495      Casual Dating             2                      NaN   \n",
       "496         Casual Fun             1             Time-Wasting   \n",
       "497         Casual Fun             2  Lack of Genuine Matches   \n",
       "498      Casual Dating             3  Lack of Genuine Matches   \n",
       "499         Casual Fun             2             Time-Wasting   \n",
       "\n",
       "       Desired_Features Preferred_Communication  \\\n",
       "0           Audio Calls             Video Calls   \n",
       "1           Video Calls                    Text   \n",
       "2     Detailed Profiles                    Text   \n",
       "3    AI Recommendations             Voice Notes   \n",
       "4           Video Calls                    Text   \n",
       "..                  ...                     ...   \n",
       "495         Audio Calls             Voice Notes   \n",
       "496         Video Calls             Video Calls   \n",
       "497         Video Calls             Voice Notes   \n",
       "498   Detailed Profiles                    Text   \n",
       "499  AI Recommendations             Video Calls   \n",
       "\n",
       "                       Partner_Priorities  \n",
       "0       Values > Personality > Appearance  \n",
       "1       Values > Personality > Appearance  \n",
       "2       Values > Personality > Appearance  \n",
       "3        Personality > Interests > Values  \n",
       "4    Appearance > Interests > Personality  \n",
       "..                                    ...  \n",
       "495      Personality > Interests > Values  \n",
       "496     Values > Personality > Appearance  \n",
       "497  Appearance > Interests > Personality  \n",
       "498  Appearance > Interests > Personality  \n",
       "499  Appearance > Interests > Personality  \n",
       "\n",
       "[500 rows x 16 columns]>"
      ]
     },
     "execution_count": 9,
     "metadata": {},
     "output_type": "execute_result"
    }
   ],
   "source": [
    "data.head\n"
   ]
  },
  {
   "cell_type": "code",
   "execution_count": 13,
   "id": "2fc5682b-f7ff-4adb-a6ca-f01ebe01e231",
   "metadata": {},
   "outputs": [
    {
     "name": "stdout",
     "output_type": "stream",
     "text": [
      "Primary_App  Bumble  Hinge  OkCupid  Tinder\n",
      "Gender                                     \n",
      "Female           39     35       39      23\n",
      "Male             29     29       46      28\n",
      "Non-binary       25     42       33      25\n"
     ]
    }
   ],
   "source": [
    "#Gender influence dating app preferences\n",
    "gender_app_preferences = data.groupby(['Gender', 'Primary_App']).size().unstack(fill_value=0)\n",
    "print(gender_app_preferences)"
   ]
  },
  {
   "cell_type": "code",
   "execution_count": null,
   "id": "22230e16-71d3-4b1c-8ce5-4e4746a9d3bc",
   "metadata": {},
   "outputs": [],
   "source": [
    "# we can notice that the gender influence app preferences so then it will be yes "
   ]
  },
  {
   "cell_type": "code",
   "execution_count": 29,
   "id": "5f9b6c9f-7bca-4ba0-8c91-be14a67dd6cb",
   "metadata": {},
   "outputs": [
    {
     "name": "stdout",
     "output_type": "stream",
     "text": [
      "Number of using multiple apps:500\n",
      "Total number of users : 500\n",
      "Percentage of user using multiple apps:100.0\n"
     ]
    }
   ],
   "source": [
    "# people using multiple dating apps simultanuously \n",
    "app_users = data[data['Secondary_Apps'] != 'None'].shape[0]\n",
    "total_users= data.shape[0]\n",
    "multiple_apps=(app_users/total_users)* 100\n",
    "print(f'Number of using multiple apps:{app_users}')\n",
    "print(f'Total number of users : {total_users}')\n",
    "print(f'Percentage of user using multiple apps:{multiple_apps}')"
   ]
  },
  {
   "cell_type": "code",
   "execution_count": 31,
   "id": "28131133-c031-4070-97da-8d0e9160fe6c",
   "metadata": {},
   "outputs": [
    {
     "name": "stdout",
     "output_type": "stream",
     "text": [
      "Number of using multiple apps:500\n",
      "Total number of users : 500\n",
      "Percentage of user using multiple apps:100.0\n"
     ]
    }
   ],
   "source": [
    "app_users = data[data['Primary_App'] != 'None'].shape[0]\n",
    "total_users= data.shape[0]\n",
    "multiple_apps=(app_users/total_users)* 100\n",
    "print(f'Number of using multiple apps:{app_users}')\n",
    "print(f'Total number of users : {total_users}')\n",
    "print(f'Percentage of user using multiple apps:{multiple_apps}')"
   ]
  },
  {
   "cell_type": "code",
   "execution_count": 39,
   "id": "eb3d90ee-f717-4b1f-8e52-ddfa8746cc39",
   "metadata": {},
   "outputs": [
    {
     "data": {
      "image/png": "[encoded data removed]",
      "text/plain": [
       "<Figure size 600x600 with 1 Axes>"
      ]
     },
     "metadata": {},
     "output_type": "display_data"
    }
   ],
   "source": [
    "import matplotlib.pyplot as plt\n",
    "labels = ['Single App Users', 'Multiple App Users']\n",
    "sizes = [total_users - app_users, app_users]\n",
    "colors = ['lightblue', 'lightcoral']\n",
    "explode = (0.1, 0)  \n",
    "plt.figure(figsize=(6, 6))\n",
    "plt.pie(sizes, explode=explode, labels=labels, colors=colors, autopct='%1.1f%%', shadow=True, startangle=140)\n",
    "plt.title('Proportion of Users Using Multiple Dating Apps')\n",
    "plt.show()\n",
    "# Yes,it shows us that people are using multiple apps simultaneously"
   ]
  },
  {
   "cell_type": "code",
   "execution_count": 47,
   "id": "99d04e79-7942-4334-bc98-c67c9c32cdd4",
   "metadata": {},
   "outputs": [
    {
     "name": "stdout",
     "output_type": "stream",
     "text": [
      "   Age Age_Group\n",
      "0   20     21-23\n",
      "1   24     24-25\n",
      "2   24     24-25\n",
      "3   22     21-23\n",
      "4   18     18-20\n"
     ]
    }
   ],
   "source": [
    "#Age groups that is mostly active on the dating apps\n",
    "bins = [18,20,23,25]\n",
    "labels = ['18-20','21-23','24-25']\n",
    "data['Age_Group']= pd.cut(data['Age'] ,bins=bins,labels=labels, right= False)\n",
    "print(data[['Age','Age_Group']].head())"
   ]
  },
  {
   "cell_type": "code",
   "execution_count": 51,
   "id": "b10ffb33-87d4-4c9f-b7d1-a27f16da4dee",
   "metadata": {},
   "outputs": [
    {
     "name": "stdout",
     "output_type": "stream",
     "text": [
      "Average Usage Frequency Score by Age Group:\n",
      "Age_Group\n",
      "18-20    2.796371\n",
      "21-23    2.650000\n",
      "24-25    3.137755\n",
      "Name: Usage_Frequency_Score, dtype: float64\n"
     ]
    },
    {
     "name": "stderr",
     "output_type": "stream",
     "text": [
      "C:\\Users\\LENOVO\\AppData\\Local\\Temp\\ipykernel_18888\\1088600743.py:10: FutureWarning: The default of observed=False is deprecated and will be changed to True in a future version of pandas. Pass observed=False to retain current behavior or observed=True to adopt the future default and silence this warning.\n",
      "  avg_usage_frequency = data.groupby('Age_Group')['Usage_Frequency_Score'].mean()\n"
     ]
    }
   ],
   "source": [
    "# Map Usage_Frequency to numerical values\n",
    "usage_frequency_map = {\n",
    "    'Daily': 7,\n",
    "    'Weekly': 1,\n",
    "    'Monthly': 0.25\n",
    "}\n",
    "data['Usage_Frequency_Score'] = data['Usage_Frequency'].map(usage_frequency_map)\n",
    "# Calculate average usage frequency score by age group\n",
    "avg_usage_frequency = data.groupby('Age_Group')['Usage_Frequency_Score'].mean()\n",
    "# Display the results\n",
    "print(\"Average Usage Frequency Score by Age Group:\")\n",
    "print(avg_usage_frequency)"
   ]
  },
  {
   "cell_type": "code",
   "execution_count": 62,
   "id": "fb12b0a3-1d14-43f2-bca0-bdfd1c22db36",
   "metadata": {},
   "outputs": [
    {
     "name": "stderr",
     "output_type": "stream",
     "text": [
      "C:\\Users\\LENOVO\\AppData\\Local\\Temp\\ipykernel_18888\\3484475446.py:3: FutureWarning: \n",
      "\n",
      "Passing `palette` without assigning `hue` is deprecated and will be removed in v0.14.0. Assign the `x` variable to `hue` and set `legend=False` for the same effect.\n",
      "\n",
      "  sns.barplot(x=avg_usage_frequency.index, y=avg_usage_frequency.values, palette='magma')\n"
     ]
    },
    {
     "data": {
      "image/png": "[encoded data removed]",
      "text/plain": [
       "<Figure size 800x500 with 1 Axes>"
      ]
     },
     "metadata": {},
     "output_type": "display_data"
    }
   ],
   "source": [
    "plt.figure(figsize=(8, 5))\n",
    "# Create a bar plot for average usage frequency\n",
    "sns.barplot(x=avg_usage_frequency.index, y=avg_usage_frequency.values, palette='magma')\n",
    "plt.title('Average Usage Frequency by Age Group')\n",
    "plt.xlabel('Age Group')\n",
    "plt.ylabel('Average Usage Frequency Score')\n",
    "plt.show()"
   ]
  },
  {
   "cell_type": "code",
   "execution_count": null,
   "id": "1889ccae-53bc-4689-a6db-151517f8ea8a",
   "metadata": {},
   "outputs": [],
   "source": [
    "# we can see that the group of 24-25 is the one that is mostly active on the dating "
   ]
  },
  {
   "cell_type": "code",
   "execution_count": 68,
   "id": "4cb2bfc4-5cae-467e-ae5d-3a2d42e8296d",
   "metadata": {},
   "outputs": [],
   "source": [
    "# people in urban vs rural areas show different usage patterns \n",
    "# yes , they show different usage patterns"
   ]
  },
  {
   "cell_type": "code",
   "execution_count": 84,
   "id": "1db92e4d-f517-45e1-a4b2-c1d666064c06",
   "metadata": {},
   "outputs": [
    {
     "name": "stdout",
     "output_type": "stream",
     "text": [
      "    Location Area_Type\n",
      "0  Bangalore     Urban\n",
      "1      Delhi     Urban\n",
      "2    Kolkata     Urban\n",
      "3      Delhi     Urban\n",
      "4      Delhi     Urban\n"
     ]
    }
   ],
   "source": [
    "urban_cities = ['Bangalore', 'Delhi', 'Mumbai', 'Chennai', 'Hyderabad', 'Kolkata', 'Pune']\n",
    "data['Area_Type'] = data['Location'].apply(lambda x: 'Urban' if x in urban_cities else 'Rural')\n",
    "print(data[['Location', 'Area_Type']].head())"
   ]
  },
  {
   "cell_type": "code",
   "execution_count": 86,
   "id": "e53bb31e-1461-4b8d-be4a-7fcdbfd912d9",
   "metadata": {},
   "outputs": [
    {
     "name": "stdout",
     "output_type": "stream",
     "text": [
      "Average Usage Frequency Score by Area Type:\n",
      "Area_Type\n",
      "Urban    2.935\n",
      "Name: Usage_Frequency_Score, dtype: float64\n"
     ]
    }
   ],
   "source": [
    "usage_frequency_map = {\n",
    "    'Daily': 7,\n",
    "    'Weekly': 1,\n",
    "    'Monthly': 0.25\n",
    "}\n",
    "data['Usage_Frequency_Score'] = data['Usage_Frequency'].map(usage_frequency_map)\n",
    "avg_usage_frequency = data.groupby('Area_Type')['Usage_Frequency_Score'].mean()\n",
    "print(\"Average Usage Frequency Score by Area Type:\")\n",
    "print(avg_usage_frequency)"
   ]
  },
  {
   "cell_type": "code",
   "execution_count": 88,
   "id": "ecd7777e-5a5d-4d9e-a40f-576b960dfbd4",
   "metadata": {},
   "outputs": [
    {
     "name": "stdout",
     "output_type": "stream",
     "text": [
      "Primary App Preferences by Area Type:\n",
      "Primary_App  Bumble  Hinge  OkCupid  Tinder\n",
      "Area_Type                                  \n",
      "Urban            93    106      118      76\n"
     ]
    }
   ],
   "source": [
    "primary_app_preferences = data.groupby(['Area_Type', 'Primary_App']).size().unstack(fill_value=0)\n",
    "print(\"Primary App Preferences by Area Type:\")\n",
    "print(primary_app_preferences)"
   ]
  },
  {
   "cell_type": "code",
   "execution_count": null,
   "id": "2844dc0e-6c6c-4240-9b27-4ae6cda6324b",
   "metadata": {},
   "outputs": [],
   "source": []
  },
  {
   "cell_type": "code",
   "execution_count": null,
   "id": "587c99b1-ac3b-4bc8-85dc-30fd49f3be03",
   "metadata": {},
   "outputs": [],
   "source": []
  }
 ],
 "metadata": {
  "kernelspec": {
   "display_name": "Python [conda env:base] *",
   "language": "python",
   "name": "conda-base-py"
  },
  "language_info": {
   "codemirror_mode": {
    "name": "ipython",
    "version": 3
   },
   "file_extension": ".py",
   "mimetype": "text/x-python",
   "name": "python",
   "nbconvert_exporter": "python",
   "pygments_lexer": "ipython3",
   "version": "3.12.7"
  }
 },
 "nbformat": 4,
 "nbformat_minor": 5
}
